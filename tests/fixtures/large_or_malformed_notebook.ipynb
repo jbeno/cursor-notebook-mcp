version https://git-lfs.github.com/spec/v1
oid sha256:5e2676bef569d5ff05e8aefc328b409d54a421faca04a8c047c076f83d34ddf7
size 54823062
