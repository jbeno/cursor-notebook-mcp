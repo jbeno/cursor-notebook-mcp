{
 "cells": [
  {
   "cell_type": "markdown",
   "metadata": {},
   "source": [
    "# MCP Server Test Notebook"
   ]
  },
  {
   "cell_type": "code",
   "execution_count": 6,
   "metadata": {},
   "outputs": [
    {
     "name": "stdout",
     "output_type": "stream",
     "text": [
      "MCP server reporting for duty! 🚀\n"
     ]
    }
   ],
   "source": [
    "# let's test the mcp server\n",
    "print(\"Beep boop! MCP server online and ready to... calculate primes?\")"
   ]
  },
  {
   "cell_type": "code",
   "execution_count": 4,
   "id": "d024a256",
   "metadata": {},
   "outputs": [
    {
     "name": "stdout",
     "output_type": "stream",
     "text": [
      "Prime numbers up to 300:\n",
      "2 3 5 7 11 13 17 19 23 29 31 37 41 43 47 53 59 61 67 71 73 79 83 89 97 101 103 107 109 113 127 131 137 139 149 151 157 163 167 173 179 181 191 193 197 199 211 223 227 229 233 239 241 251 257 263 269 271 277 281 283 293 \n"
     ]
    }
   ],
   "source": [
    "\n",
    "import math\n",
    "\n",
    "def is_prime(num: int) -> bool:\n",
    "    \"\"\"Check if a number is prime.\n",
    "\n",
    "    Parameters\n",
    "    ----------\n",
    "    num : int\n",
    "        The number to check for primality.\n",
    "\n",
    "    Returns\n",
    "    -------\n",
    "    bool\n",
    "        True if the number is prime, False otherwise.\n",
    "    \"\"\"\n",
    "    if num < 2:\n",
    "        return False\n",
    "    # Check divisibility from 2 up to the square root of num\n",
    "    for i in range(2, int(math.sqrt(num)) + 1):\n",
    "        if num % i == 0:\n",
    "            return False\n",
    "    return True\n",
    "\n",
    "def print_primes(limit: int) -> None:\n",
    "    \"\"\"Print prime numbers up to a given limit.\n",
    "\n",
    "    Parameters\n",
    "    ----------\n",
    "    limit : int\n",
    "        The upper bound (inclusive) for finding prime numbers.\n",
    "\n",
    "    Returns\n",
    "    -------\n",
    "    None\n",
    "        This function prints the primes directly.\n",
    "    \"\"\"\n",
    "    print(f\"Prime numbers up to {limit}:\")\n",
    "    count = 0\n",
    "    for number in range(2, limit + 1):\n",
    "        if is_prime(number):\n",
    "            print(number, end=\" \")\n",
    "            count += 1\n",
    "    if count == 0:\n",
    "        print(\"None found in this range.\")\n",
    "    else:\n",
    "        print() # Newline after printing primes\n",
    "\n",
    "# Example usage: Find primes up to 300\n",
    "print_primes(300)\n",
    "\n"
   ]
  },
  {
   "cell_type": "code",
   "execution_count": 5,
   "id": "14d1f28c",
   "metadata": {},
   "outputs": [
    {
     "name": "stdout",
     "output_type": "stream",
     "text": [
      "Fibonacci sequence less than 50:\n",
      "[0, 1, 1, 2, 3, 5, 8, 13, 21, 34]\n"
     ]
    }
   ],
   "source": [
    "\n",
    "from typing import List\n",
    "\n",
    "def fibonacci(n: int) -> List[int]:\n",
    "    \"\"\"Generate the Fibonacci sequence less than a given value n.\n",
    "\n",
    "    Parameters\n",
    "    ----------\n",
    "    n : int\n",
    "        The upper limit (exclusive) for the Fibonacci numbers.\n",
    "        The function will generate numbers in the sequence until they\n",
    "        reach or exceed this value.\n",
    "\n",
    "    Returns\n",
    "    -------\n",
    "    List[int]\n",
    "        A list containing the Fibonacci numbers less than n.\n",
    "    \"\"\"\n",
    "    a, b = 0, 1\n",
    "    result = []\n",
    "    while a < n: # Let's generate up to a value n, not n terms\n",
    "        result.append(a)\n",
    "        a, b = b, a+b\n",
    "    return result\n",
    "\n",
    "# Example usage: Generate Fibonacci numbers less than 50\n",
    "print(\"Fibonacci sequence less than 50:\")\n",
    "print(fibonacci(50))\n",
    "\n"
   ]
  },
  {
   "cell_type": "code",
   "execution_count": 7,
   "id": "fcbad36b",
   "metadata": {},
   "outputs": [
    {
     "name": "stdout",
     "output_type": "stream",
     "text": [
      "--- Golden Ratio Approximation ---\n",
      "Using Fibonacci numbers 377 and 233:\n",
      "Approximation of Golden Ratio (Phi): 1.61802575\n"
     ]
    }
   ],
   "source": [
    "\n",
    "from typing import List\n",
    "\n",
    "def approximate_golden_ratio(terms: int) -> None:\n",
    "    \"\"\"Approximates the Golden Ratio (Phi) using Fibonacci numbers.\n",
    "\n",
    "    Calculates the ratio of the last two numbers in the Fibonacci\n",
    "    sequence of a specified length.\n",
    "\n",
    "    Parameters\n",
    "    ----------\n",
    "    terms : int\n",
    "        The number of terms of the Fibonacci sequence to generate.\n",
    "        Must be at least 3 to calculate a ratio.\n",
    "\n",
    "    Returns\n",
    "    -------\n",
    "    None\n",
    "        Prints the approximation of the Golden Ratio.\n",
    "    \"\"\"\n",
    "    a, b = 0, 1\n",
    "    fib_sequence: List[int] = []\n",
    "    if terms >= 1:\n",
    "        fib_sequence.append(a)\n",
    "    if terms >= 2:\n",
    "        fib_sequence.append(b)\n",
    "\n",
    "    for _ in range(terms - 2):\n",
    "        a, b = b, a+b\n",
    "        fib_sequence.append(b)\n",
    "\n",
    "    if len(fib_sequence) >= 3:\n",
    "        # Calculate ratio of the last two numbers (avoid division by zero if sequence is too short)\n",
    "        if fib_sequence[-2] != 0:\n",
    "            ratio = fib_sequence[-1] / fib_sequence[-2]\n",
    "            print(f\"Using Fibonacci numbers {fib_sequence[-1]} and {fib_sequence[-2]}:\")\n",
    "            print(f\"Approximation of Golden Ratio (Phi): {ratio:.8f}\")\n",
    "        else:\n",
    "             print(\"Cannot approximate ratio with the generated sequence (division by zero).\")\n",
    "    else:\n",
    "        print(\"Need at least 3 terms in Fibonacci sequence to approximate Golden Ratio.\")\n",
    "        print(f\"Generated sequence: {fib_sequence}\")\n",
    "\n",
    "\n",
    "# Example usage: Approximate using first 15 Fibonacci numbers\n",
    "print(\"--- Golden Ratio Approximation ---\")\n",
    "approximate_golden_ratio(15)\n",
    "\n"
   ]
  },
  {
   "cell_type": "code",
   "execution_count": 10,
   "id": "44d4c7dd",
   "metadata": {},
   "outputs": [
    {
     "name": "stdout",
     "output_type": "stream",
     "text": [
      "Why did the algorithm optimized the IDE?\n",
      "Because it wanted to solve the halting problem!\n"
     ]
    }
   ],
   "source": [
    "\n",
    "import random\n",
    "\n",
    "def generate_programming_mad_lib() -> None:\n",
    "    \"\"\"Generates and prints a random Mad Lib-style programming joke.\n",
    "\n",
    "    Selects random words from predefined lists of programming-related\n",
    "    nouns and verbs to construct a joke in the format:\n",
    "    \"Why did the [noun1] [verb_past] the [noun2]?\"\n",
    "    \"Because it wanted to [verb_phrase]!\"\n",
    "\n",
    "    Parameters\n",
    "    ----------\n",
    "    None\n",
    "\n",
    "    Returns\n",
    "    -------\n",
    "    None\n",
    "        Prints the generated joke to standard output.\n",
    "    \"\"\"\n",
    "    nouns = [\"programmer\", \"variable\", \"function\", \"algorithm\", \"database\", \"server\", \"bug\", \"keyboard\", \"compiler\", \"debugger\"]\n",
    "    verbs_past = [\"crossed\", \"debugged\", \"compiled\", \"queried\", \"optimized\", \"refactored\", \"ignored\", \"crashed\", \"hacked\", \"deployed\"]\n",
    "    nouns2 = [\"road\", \"code\", \"network\", \"cloud\", \"stack trace\", \"repository\", \"IDE\", \"terminal\", \"user\"]\n",
    "    verb_phrases = [\n",
    "        \"get to the other side\",\n",
    "        \"find the null pointer exception\",\n",
    "        \"avoid the infinite loop\",\n",
    "        \"reach maximum efficiency\",\n",
    "        \"impress the linter\",\n",
    "        \"feel more DRY\",\n",
    "        \"hide from the QA team\",\n",
    "        \"pass the unit tests\",\n",
    "        \"solve the halting problem\",\n",
    "        \"achieve thread safety\"\n",
    "    ]\n",
    "\n",
    "    noun1 = random.choice(nouns)\n",
    "    verb = random.choice(verbs_past)\n",
    "    noun2 = random.choice(nouns2)\n",
    "    verb_phrase = random.choice(verb_phrases)\n",
    "\n",
    "    print(f\"Why did the {noun1} {verb} the {noun2}?\")\n",
    "    print(f\"Because it wanted to {verb_phrase}!\")\n",
    "\n",
    "# Generate and print a joke\n",
    "generate_programming_mad_lib()\n",
    "\n"
   ]
  },
  {
   "cell_type": "code",
   "execution_count": null,
   "metadata": {},
   "outputs": [],
   "source": []
  }
 ],
 "metadata": {
  "kernelspec": {
   "display_name": ".venv",
   "language": "python",
   "name": "python3"
  },
  "language_info": {
   "codemirror_mode": {
    "name": "ipython",
    "version": 3
   },
   "file_extension": ".py",
   "mimetype": "text/x-python",
   "name": "python",
   "nbconvert_exporter": "python",
   "pygments_lexer": "ipython3",
   "version": "3.13.2"
  }
 },
 "nbformat": 4,
 "nbformat_minor": 2
}
